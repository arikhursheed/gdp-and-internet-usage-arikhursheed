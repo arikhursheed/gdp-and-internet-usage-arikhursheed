{
 "cells": [
  {
   "cell_type": "code",
   "execution_count": 1,
   "metadata": {},
   "outputs": [],
   "source": [
    "import pandas as pd\n",
    "import numpy as np\n",
    "import matplotlib.pyplot as plt\n",
    "import seaborn as sns"
   ]
  },
  {
   "cell_type": "code",
   "execution_count": 2,
   "metadata": {},
   "outputs": [
    {
     "data": {
      "text/plain": [
       "pandas.core.frame.DataFrame"
      ]
     },
     "execution_count": 2,
     "metadata": {},
     "output_type": "execute_result"
    }
   ],
   "source": [
    "#read gdp_percapita.csv file into gdb_df data frame\n",
    "gdp_df= pd.read_csv(r\"C:\\Users\\arikh\\Documents\\NSS_Data_Analytics\\projects\\gdp-and-internet-usage-arikhursheed\\data\\gdp_percapita.csv\")  \n",
    "type(gdp_df)"
   ]
  },
  {
   "cell_type": "code",
   "execution_count": 3,
   "metadata": {},
   "outputs": [
    {
     "name": "stdout",
     "output_type": "stream",
     "text": [
      "  Country or Area  Year        Value  Value Footnotes\n",
      "0     Afghanistan  2018  1734.723214              NaN\n",
      "1     Afghanistan  2017  1758.465636              NaN\n",
      "2     Afghanistan  2016  1757.023490              NaN\n",
      "3     Afghanistan  2015  1766.593077              NaN\n",
      "4     Afghanistan  2014  1795.735834              NaN\n",
      "5     Afghanistan  2013  1807.762344              NaN\n"
     ]
    }
   ],
   "source": [
    "print(gdp_df.head(6))\n"
   ]
  },
  {
   "cell_type": "markdown",
   "metadata": {},
   "source": [
    "Question 7: The shape of the dataframe - how many rows, how many columns"
   ]
  },
  {
   "cell_type": "code",
   "execution_count": 4,
   "metadata": {},
   "outputs": [
    {
     "data": {
      "text/plain": [
       "(6732, 4)"
      ]
     },
     "execution_count": 4,
     "metadata": {},
     "output_type": "execute_result"
    }
   ],
   "source": [
    "gdp_df.shape"
   ]
  },
  {
   "cell_type": "code",
   "execution_count": 5,
   "metadata": {},
   "outputs": [],
   "source": [
    "#read internet_use.csv file into gdb_df data frame\n",
    "\n",
    "internet_df=pd.read_csv(r\"C:\\Users\\arikh\\Documents\\NSS_Data_Analytics\\projects\\gdp-and-internet-usage-arikhursheed\\data\\internet_use.csv\")"
   ]
  },
  {
   "cell_type": "code",
   "execution_count": 6,
   "metadata": {},
   "outputs": [
    {
     "name": "stdout",
     "output_type": "stream",
     "text": [
      "  Country or Area  Year        Value Value Footnotes  Unnamed: 4 Unnamed: 5\n",
      "0     Afghanistan  2014         6.39             NaN         NaN        NaN\n",
      "1     Afghanistan  2013          5.9             NaN         NaN        NaN\n",
      "2     Afghanistan  2012  5.454545455             NaN         NaN        NaN\n",
      "3     Afghanistan  2011            5             NaN         NaN        NaN\n",
      "4     Afghanistan  2010            4             NaN         NaN        NaN\n",
      "5     Afghanistan  2009         3.55             NaN         NaN        NaN\n"
     ]
    }
   ],
   "source": [
    "print(internet_df.head(6))"
   ]
  },
  {
   "cell_type": "markdown",
   "metadata": {},
   "source": [
    "Question 7:The shape of the dataframe - how many rows, how many columns"
   ]
  },
  {
   "cell_type": "code",
   "execution_count": 7,
   "metadata": {},
   "outputs": [
    {
     "data": {
      "text/plain": [
       "(4677, 6)"
      ]
     },
     "execution_count": 7,
     "metadata": {},
     "output_type": "execute_result"
    }
   ],
   "source": [
    "internet_df.shape"
   ]
  },
  {
   "cell_type": "markdown",
   "metadata": {},
   "source": [
    "Question 8: Take a look at the data types for the columns in each table.\n"
   ]
  },
  {
   "cell_type": "code",
   "execution_count": 8,
   "metadata": {},
   "outputs": [
    {
     "name": "stdout",
     "output_type": "stream",
     "text": [
      "Data type of each column of Dataframe :\n",
      "Country or Area     object\n",
      "Year                object\n",
      "Value              float64\n",
      "Value Footnotes    float64\n",
      "dtype: object\n",
      "Data type of each column of Dataframe :\n",
      "Country or Area     object\n",
      "Year                object\n",
      "Value               object\n",
      "Value Footnotes     object\n",
      "Unnamed: 4         float64\n",
      "Unnamed: 5          object\n",
      "dtype: object\n"
     ]
    }
   ],
   "source": [
    "#gdp_df table\n",
    "\n",
    "print('Data type of each column of Dataframe :')\n",
    "print(gdp_df.dtypes)\n",
    "\n",
    "#internet_use table\n",
    "\n",
    "print('Data type of each column of Dataframe :')\n",
    "print(internet_df.dtypes)"
   ]
  },
  {
   "cell_type": "markdown",
   "metadata": {},
   "source": [
    "Question 9: Take a look at the last 10 rows of each dataset in turn.\n"
   ]
  },
  {
   "cell_type": "code",
   "execution_count": 9,
   "metadata": {},
   "outputs": [
    {
     "name": "stdout",
     "output_type": "stream",
     "text": [
      "**** Select last n Rows from a Dataframe using tail() function ****\n",
      "     Country or Area                                      Year        Value  \\\n",
      "6722        Zimbabwe                                      1996  2985.856605   \n",
      "6723        Zimbabwe                                      1995  2736.486436   \n",
      "6724        Zimbabwe                                      1994  2768.309953   \n",
      "6725        Zimbabwe                                      1993  2572.870395   \n",
      "6726        Zimbabwe                                      1992  2591.007534   \n",
      "6727        Zimbabwe                                      1991  2906.272849   \n",
      "6728        Zimbabwe                                      1990  2819.549467   \n",
      "6729             NaN                                       NaN          NaN   \n",
      "6730   footnoteSeqID                                  Footnote          NaN   \n",
      "6731               2  Excludes South Sudan after July 9, 2011.          NaN   \n",
      "\n",
      "      Value Footnotes  \n",
      "6722              NaN  \n",
      "6723              NaN  \n",
      "6724              NaN  \n",
      "6725              NaN  \n",
      "6726              NaN  \n",
      "6727              NaN  \n",
      "6728              NaN  \n",
      "6729              NaN  \n",
      "6730              NaN  \n",
      "6731              NaN  \n"
     ]
    }
   ],
   "source": [
    "print('**** Select last n Rows from a Dataframe using tail() function ****')\n",
    "print(gdp_df.tail(10))\n"
   ]
  },
  {
   "cell_type": "code",
   "execution_count": 10,
   "metadata": {},
   "outputs": [
    {
     "name": "stdout",
     "output_type": "stream",
     "text": [
      "**** Select last 10 Rows from a Dataframe using tail() function ****\n",
      "     Country or Area                                               Year  \\\n",
      "4667             171                        Internet Dial-up customers.   \n",
      "4668             172  Population age 16+ using the Internet in the l...   \n",
      "4669             173  Population age 16+ using internet in the last ...   \n",
      "4670             174  U.S. Census Bureau, Table 2. Reported Internet...   \n",
      "4671             175             Includes individuals 3 years and older   \n",
      "4672             176                                   NTIA/CPS survey.   \n",
      "4673             177                     Pew Internet Project, Internet   \n",
      "4674             178  Estimated based on Survey's results. Populatio...   \n",
      "4675             179                     Preliminary. Country estimate.   \n",
      "4676             180  The methodology used to estimated the figure f...   \n",
      "\n",
      "                                     Value Value Footnotes  Unnamed: 4  \\\n",
      "4667                                   NaN             NaN         NaN   \n",
      "4668                                   NaN             NaN         NaN   \n",
      "4669                                   NaN             NaN         NaN   \n",
      "4670                                   NaN             NaN         NaN   \n",
      "4671                                   NaN             NaN         NaN   \n",
      "4672                                   NaN             NaN         NaN   \n",
      "4673   Broadband and cell phone statistics     ” January 5      2010.0   \n",
      "4674                                   NaN             NaN         NaN   \n",
      "4675                                   NaN             NaN         NaN   \n",
      "4676                                   NaN             NaN         NaN   \n",
      "\n",
      "                                             Unnamed: 5  \n",
      "4667                                                NaN  \n",
      "4668                                                NaN  \n",
      "4669                                                NaN  \n",
      "4670                                                NaN  \n",
      "4671                                                NaN  \n",
      "4672                                                NaN  \n",
      "4673   http://www.pewinternet.org/~/media//Files/Rep...  \n",
      "4674                                                NaN  \n",
      "4675                                                NaN  \n",
      "4676                                                NaN  \n"
     ]
    }
   ],
   "source": [
    "print('**** Select last 10 Rows from a Dataframe using tail() function ****')\n",
    "print(internet_df.tail(10))\n"
   ]
  },
  {
   "cell_type": "markdown",
   "metadata": {},
   "source": [
    "Question 10: Drop the 'value footnotes' data (column) from both datasets. Check that this worked as expected."
   ]
  },
  {
   "cell_type": "code",
   "execution_count": 11,
   "metadata": {},
   "outputs": [
    {
     "data": {
      "text/html": [
       "<div>\n",
       "<style scoped>\n",
       "    .dataframe tbody tr th:only-of-type {\n",
       "        vertical-align: middle;\n",
       "    }\n",
       "\n",
       "    .dataframe tbody tr th {\n",
       "        vertical-align: top;\n",
       "    }\n",
       "\n",
       "    .dataframe thead th {\n",
       "        text-align: right;\n",
       "    }\n",
       "</style>\n",
       "<table border=\"1\" class=\"dataframe\">\n",
       "  <thead>\n",
       "    <tr style=\"text-align: right;\">\n",
       "      <th></th>\n",
       "      <th>Country or Area</th>\n",
       "      <th>Year</th>\n",
       "      <th>Value</th>\n",
       "    </tr>\n",
       "  </thead>\n",
       "  <tbody>\n",
       "    <tr>\n",
       "      <td>0</td>\n",
       "      <td>Afghanistan</td>\n",
       "      <td>2018</td>\n",
       "      <td>1734.723214</td>\n",
       "    </tr>\n",
       "    <tr>\n",
       "      <td>1</td>\n",
       "      <td>Afghanistan</td>\n",
       "      <td>2017</td>\n",
       "      <td>1758.465636</td>\n",
       "    </tr>\n",
       "    <tr>\n",
       "      <td>2</td>\n",
       "      <td>Afghanistan</td>\n",
       "      <td>2016</td>\n",
       "      <td>1757.023490</td>\n",
       "    </tr>\n",
       "    <tr>\n",
       "      <td>3</td>\n",
       "      <td>Afghanistan</td>\n",
       "      <td>2015</td>\n",
       "      <td>1766.593077</td>\n",
       "    </tr>\n",
       "    <tr>\n",
       "      <td>4</td>\n",
       "      <td>Afghanistan</td>\n",
       "      <td>2014</td>\n",
       "      <td>1795.735834</td>\n",
       "    </tr>\n",
       "    <tr>\n",
       "      <td>...</td>\n",
       "      <td>...</td>\n",
       "      <td>...</td>\n",
       "      <td>...</td>\n",
       "    </tr>\n",
       "    <tr>\n",
       "      <td>6727</td>\n",
       "      <td>Zimbabwe</td>\n",
       "      <td>1991</td>\n",
       "      <td>2906.272849</td>\n",
       "    </tr>\n",
       "    <tr>\n",
       "      <td>6728</td>\n",
       "      <td>Zimbabwe</td>\n",
       "      <td>1990</td>\n",
       "      <td>2819.549467</td>\n",
       "    </tr>\n",
       "    <tr>\n",
       "      <td>6729</td>\n",
       "      <td>NaN</td>\n",
       "      <td>NaN</td>\n",
       "      <td>NaN</td>\n",
       "    </tr>\n",
       "    <tr>\n",
       "      <td>6730</td>\n",
       "      <td>footnoteSeqID</td>\n",
       "      <td>Footnote</td>\n",
       "      <td>NaN</td>\n",
       "    </tr>\n",
       "    <tr>\n",
       "      <td>6731</td>\n",
       "      <td>2</td>\n",
       "      <td>Excludes South Sudan after July 9, 2011.</td>\n",
       "      <td>NaN</td>\n",
       "    </tr>\n",
       "  </tbody>\n",
       "</table>\n",
       "<p>6732 rows × 3 columns</p>\n",
       "</div>"
      ],
      "text/plain": [
       "     Country or Area                                      Year        Value\n",
       "0        Afghanistan                                      2018  1734.723214\n",
       "1        Afghanistan                                      2017  1758.465636\n",
       "2        Afghanistan                                      2016  1757.023490\n",
       "3        Afghanistan                                      2015  1766.593077\n",
       "4        Afghanistan                                      2014  1795.735834\n",
       "...              ...                                       ...          ...\n",
       "6727        Zimbabwe                                      1991  2906.272849\n",
       "6728        Zimbabwe                                      1990  2819.549467\n",
       "6729             NaN                                       NaN          NaN\n",
       "6730   footnoteSeqID                                  Footnote          NaN\n",
       "6731               2  Excludes South Sudan after July 9, 2011.          NaN\n",
       "\n",
       "[6732 rows x 3 columns]"
      ]
     },
     "execution_count": 11,
     "metadata": {},
     "output_type": "execute_result"
    }
   ],
   "source": [
    "gdp_df.drop(['Value Footnotes'], axis=1)"
   ]
  },
  {
   "cell_type": "code",
   "execution_count": 12,
   "metadata": {},
   "outputs": [
    {
     "data": {
      "text/html": [
       "<div>\n",
       "<style scoped>\n",
       "    .dataframe tbody tr th:only-of-type {\n",
       "        vertical-align: middle;\n",
       "    }\n",
       "\n",
       "    .dataframe tbody tr th {\n",
       "        vertical-align: top;\n",
       "    }\n",
       "\n",
       "    .dataframe thead th {\n",
       "        text-align: right;\n",
       "    }\n",
       "</style>\n",
       "<table border=\"1\" class=\"dataframe\">\n",
       "  <thead>\n",
       "    <tr style=\"text-align: right;\">\n",
       "      <th></th>\n",
       "      <th>Country or Area</th>\n",
       "      <th>Year</th>\n",
       "      <th>Value</th>\n",
       "      <th>Unnamed: 4</th>\n",
       "      <th>Unnamed: 5</th>\n",
       "    </tr>\n",
       "  </thead>\n",
       "  <tbody>\n",
       "    <tr>\n",
       "      <td>0</td>\n",
       "      <td>Afghanistan</td>\n",
       "      <td>2014</td>\n",
       "      <td>6.39</td>\n",
       "      <td>NaN</td>\n",
       "      <td>NaN</td>\n",
       "    </tr>\n",
       "    <tr>\n",
       "      <td>1</td>\n",
       "      <td>Afghanistan</td>\n",
       "      <td>2013</td>\n",
       "      <td>5.9</td>\n",
       "      <td>NaN</td>\n",
       "      <td>NaN</td>\n",
       "    </tr>\n",
       "    <tr>\n",
       "      <td>2</td>\n",
       "      <td>Afghanistan</td>\n",
       "      <td>2012</td>\n",
       "      <td>5.454545455</td>\n",
       "      <td>NaN</td>\n",
       "      <td>NaN</td>\n",
       "    </tr>\n",
       "    <tr>\n",
       "      <td>3</td>\n",
       "      <td>Afghanistan</td>\n",
       "      <td>2011</td>\n",
       "      <td>5</td>\n",
       "      <td>NaN</td>\n",
       "      <td>NaN</td>\n",
       "    </tr>\n",
       "    <tr>\n",
       "      <td>4</td>\n",
       "      <td>Afghanistan</td>\n",
       "      <td>2010</td>\n",
       "      <td>4</td>\n",
       "      <td>NaN</td>\n",
       "      <td>NaN</td>\n",
       "    </tr>\n",
       "    <tr>\n",
       "      <td>...</td>\n",
       "      <td>...</td>\n",
       "      <td>...</td>\n",
       "      <td>...</td>\n",
       "      <td>...</td>\n",
       "      <td>...</td>\n",
       "    </tr>\n",
       "    <tr>\n",
       "      <td>4672</td>\n",
       "      <td>176</td>\n",
       "      <td>NTIA/CPS survey.</td>\n",
       "      <td>NaN</td>\n",
       "      <td>NaN</td>\n",
       "      <td>NaN</td>\n",
       "    </tr>\n",
       "    <tr>\n",
       "      <td>4673</td>\n",
       "      <td>177</td>\n",
       "      <td>Pew Internet Project, Internet</td>\n",
       "      <td>Broadband and cell phone statistics</td>\n",
       "      <td>2010.0</td>\n",
       "      <td>http://www.pewinternet.org/~/media//Files/Rep...</td>\n",
       "    </tr>\n",
       "    <tr>\n",
       "      <td>4674</td>\n",
       "      <td>178</td>\n",
       "      <td>Estimated based on Survey's results. Populatio...</td>\n",
       "      <td>NaN</td>\n",
       "      <td>NaN</td>\n",
       "      <td>NaN</td>\n",
       "    </tr>\n",
       "    <tr>\n",
       "      <td>4675</td>\n",
       "      <td>179</td>\n",
       "      <td>Preliminary. Country estimate.</td>\n",
       "      <td>NaN</td>\n",
       "      <td>NaN</td>\n",
       "      <td>NaN</td>\n",
       "    </tr>\n",
       "    <tr>\n",
       "      <td>4676</td>\n",
       "      <td>180</td>\n",
       "      <td>The methodology used to estimated the figure f...</td>\n",
       "      <td>NaN</td>\n",
       "      <td>NaN</td>\n",
       "      <td>NaN</td>\n",
       "    </tr>\n",
       "  </tbody>\n",
       "</table>\n",
       "<p>4677 rows × 5 columns</p>\n",
       "</div>"
      ],
      "text/plain": [
       "     Country or Area                                               Year  \\\n",
       "0        Afghanistan                                               2014   \n",
       "1        Afghanistan                                               2013   \n",
       "2        Afghanistan                                               2012   \n",
       "3        Afghanistan                                               2011   \n",
       "4        Afghanistan                                               2010   \n",
       "...              ...                                                ...   \n",
       "4672             176                                   NTIA/CPS survey.   \n",
       "4673             177                     Pew Internet Project, Internet   \n",
       "4674             178  Estimated based on Survey's results. Populatio...   \n",
       "4675             179                     Preliminary. Country estimate.   \n",
       "4676             180  The methodology used to estimated the figure f...   \n",
       "\n",
       "                                     Value  Unnamed: 4  \\\n",
       "0                                     6.39         NaN   \n",
       "1                                      5.9         NaN   \n",
       "2                              5.454545455         NaN   \n",
       "3                                        5         NaN   \n",
       "4                                        4         NaN   \n",
       "...                                    ...         ...   \n",
       "4672                                   NaN         NaN   \n",
       "4673   Broadband and cell phone statistics      2010.0   \n",
       "4674                                   NaN         NaN   \n",
       "4675                                   NaN         NaN   \n",
       "4676                                   NaN         NaN   \n",
       "\n",
       "                                             Unnamed: 5  \n",
       "0                                                   NaN  \n",
       "1                                                   NaN  \n",
       "2                                                   NaN  \n",
       "3                                                   NaN  \n",
       "4                                                   NaN  \n",
       "...                                                 ...  \n",
       "4672                                                NaN  \n",
       "4673   http://www.pewinternet.org/~/media//Files/Rep...  \n",
       "4674                                                NaN  \n",
       "4675                                                NaN  \n",
       "4676                                                NaN  \n",
       "\n",
       "[4677 rows x 5 columns]"
      ]
     },
     "execution_count": 12,
     "metadata": {},
     "output_type": "execute_result"
    }
   ],
   "source": [
    "internet_df.drop(['Value Footnotes'], axis=1)"
   ]
  }
 ],
 "metadata": {
  "kernelspec": {
   "display_name": "Python 3",
   "language": "python",
   "name": "python3"
  },
  "language_info": {
   "codemirror_mode": {
    "name": "ipython",
    "version": 3
   },
   "file_extension": ".py",
   "mimetype": "text/x-python",
   "name": "python",
   "nbconvert_exporter": "python",
   "pygments_lexer": "ipython3",
   "version": "3.7.4"
  }
 },
 "nbformat": 4,
 "nbformat_minor": 2
}
